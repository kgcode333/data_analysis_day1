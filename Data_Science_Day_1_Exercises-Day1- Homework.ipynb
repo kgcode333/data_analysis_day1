{
 "cells": [
  {
   "cell_type": "markdown",
   "metadata": {},
   "source": [
    "### Kims Homework week9_day1"
   ]
  },
  {
   "cell_type": "markdown",
   "metadata": {},
   "source": [
    "# Exercises"
   ]
  },
  {
   "cell_type": "markdown",
   "metadata": {},
   "source": [
    "### #1 - Calculate the BMI (body mass index) on the two lists below using NDArrays..."
   ]
  },
  {
   "cell_type": "code",
   "execution_count": 2,
   "metadata": {},
   "outputs": [
    {
     "data": {
      "text/plain": [
       "array([16.86620458, 17.87755102, 18.82562984, 19.71450617, 20.54794521,\n",
       "       21.32943755, 22.06222222])"
      ]
     },
     "execution_count": 2,
     "metadata": {},
     "output_type": "execute_result"
    }
   ],
   "source": [
    "import numpy as np\n",
    "# formula = weight / (height**2) * 730\n",
    "height = [69, 70, 71, 72, 73, 74, 75]\n",
    "weight = [110, 120, 130, 140, 150, 160, 170]\n",
    "\n",
    "# OUTPUT: [16.86620458 17.87755102 18.82562984 19.71450617 20.54794521 21.32943755\n",
    "# 22.06222222]\n",
    "\n",
    "\n",
    "#Answer:\n",
    "h = np.array(height)\n",
    "w = np.array(weight)\n",
    "\n",
    "bmi = w / (h**2) * 730\n",
    "bmi\n"
   ]
  },
  {
   "cell_type": "markdown",
   "metadata": {},
   "source": [
    "### #2 - Create a function that will take in two parameters and will create a random matrix based off of those parameters. Extra: Have additional parameters taken in that allow the user to choose the shape and data type of the matrix."
   ]
  },
  {
   "cell_type": "code",
   "execution_count": 32,
   "metadata": {},
   "outputs": [
    {
     "data": {
      "text/plain": [
       "array([3.88665049, 4.63834134, 4.3513246 , 7.4489487 , 5.15468258,\n",
       "       6.70009528])"
      ]
     },
     "execution_count": 32,
     "metadata": {},
     "output_type": "execute_result"
    }
   ],
   "source": [
    "\"\"\"\n",
    "Example Result\n",
    "array([[14.21633515,  7.98846653,  9.64140715],\n",
    "       [ 6.30982234,  9.96414331,  8.43153688],\n",
    "       [14.73102068, 11.76072894, 14.23356121]])\n",
    "\"\"\"\n",
    "def makeMatrix(l_1,l_2,shape='',data_type =''):\n",
    "    randy = np.random.uniform(l_1,l_2)\n",
    "    return randy\n",
    "makeMatrix([1,2,3,4,5,6],[8,9,5,8,9,7])\n",
    "    \n",
    "\n"
   ]
  },
  {
   "cell_type": "markdown",
   "metadata": {},
   "source": [
    "### #3 - Extra: Open and load the data in the two text files that have the Boston Red Sox hitting data for the past seasons. Compare the difference in the two years by putting the data into an NDArray and running a differencial operation on it. The column to look for will be SLG.\n",
    "\n",
    "Your output should display which year (either 2017 or 2018) was a better year based on SLG"
   ]
  },
  {
   "cell_type": "code",
   "execution_count": 2,
   "metadata": {},
   "outputs": [],
   "source": [
    "import csv\n",
    "import numpy as np\n",
    "\n",
    "def load_data(filename, d = ','):\n",
    "    data = np.genfromtxt(filename,delimiter = d, skip_header=1, usecols=np.arange(0,24),invalid_raise=False, dtype = DATATYPES)\n",
    "    \n",
    "    return data\n",
    "\n",
    "bs2017 = load_data('../../files/redsox_2017_hitting.txt')\n",
    "\n",
    "\n",
    "\n",
    "#Test to make sure you have the correct data\n",
    "\n"
   ]
  },
  {
   "cell_type": "code",
   "execution_count": 4,
   "metadata": {},
   "outputs": [
    {
     "name": "stdout",
     "output_type": "stream",
     "text": [
      "2017 hits data:\n",
      " [0.404 0.443 0.392 0.403 0.482 0.424 0.402 0.459 0.429 0.354 0.387 0.333\n",
      " 0.539 0.243 0.262 0.354 0.342 0.339 0.328 0.306 0.222 0.2   1.   ]\n",
      "\n",
      "2018 hits data:\n",
      " [0.279 0.433 0.388 0.522 0.433 0.465 0.403 0.64  0.629 0.411 0.283 0.328\n",
      " 0.395 0.507 0.311 0.415 0.389 0.261 0.091 0.167]\n",
      "\n",
      " Sum of 2017 hits:\n",
      " 0.39334783\n",
      "\n",
      "Sum of 2018 hits:\n",
      " 0.3875\n",
      "\n",
      "Difference of SLG sums:\n",
      " 0.0058478415\n",
      "\n",
      "Based on sum data the Redsox had a better hitting year in 2017\n"
     ]
    }
   ],
   "source": [
    "\"\"\"\n",
    "Example Result - Not the actual result\n",
    "Boston 18 had more SLG in 2018\n",
    "[0.404 0.443 0.392 0.403 0.482 0.424 0.402 0.459 0.429 0.354 0.387 0.333\n",
    " 0.539 0.243 0.262 0.354 0.342 0.339 0.328 0.306 0.222 0.2   1.   ]\n",
    "\"\"\"\n",
    "\n",
    "FIELDS = ['Rk', 'Pos', 'Name', 'Age', 'G', 'PA', 'AB', 'R', 'H', '2B', '3B', 'HR', 'RBI', 'SB', 'CS', \n",
    "          'BB', 'SO', 'BA', 'OBP', 'SLG', 'OPS', 'OPS+', 'TB', 'GDP', 'HBP', 'SH', 'SF', 'IBB']\n",
    "\n",
    "DATATYPES = [('rk', 'i'), ('pos', '|S25'), ('name', '|S25'), ('age', 'i'), ('g', 'i'), ('pa', 'i'), ('ab', 'i'),\n",
    "                ('r', 'i'), ('h', 'i'), ('2b', 'i'), ('3b', 'i'), ('hr', 'i'), ('rbi', 'i'), ('sb', 'i'), ('cs', 'i'),\n",
    "                ('bb', 'i'), ('so', 'i'), ('ba', 'f'), ('obp', 'f'), ('slg', 'f'), ('ops', 'f'), ('opsp', 'i'),\n",
    "                ('tb', 'i'), ('gdp', 'i'), ('hbp', 'i'), ('sh', 'i'), ('sf', 'i'), ('ibb', 'i')]\n",
    "\n",
    "#Use this function to actually open the data inside of a NDArray\n",
    "\n",
    "def load_data(filename, d = ','):\n",
    "    data = np.genfromtxt(filename,delimiter = d, skip_header=1, usecols=np.arange(0,24),invalid_raise=False,names=FIELDS, dtype = DATATYPES)\n",
    "    \n",
    "    return data\n",
    "\n",
    "bs2017 = load_data('../../files/redsox_2017_hitting.txt')\n",
    "bs2018 = load_data('../../files/redsox_2018_hitting.txt')\n",
    "\n",
    "name_17 = bs2017['Name']\n",
    "name_18 = bs2018['Name']\n",
    "# print(name_17)\n",
    "# print(name_18)\n",
    "#--------------------------------------------------\n",
    "#Store SLG Data(1)\n",
    "hits_17=bs2017['SLG']\n",
    "hits_18=bs2018['SLG']\n",
    "\n",
    "\n",
    "#convert to numpy array(2)\n",
    "nump_hits_17 = np.array(hits_17)\n",
    "nump_hits_18 = np.array(hits_18)\n",
    "print(f'2017 hits data:\\n', nump_hits_17)\n",
    "print(f'\\n2018 hits data:\\n', nump_hits_18)\n",
    "\n",
    "\n",
    "#Difference1\n",
    "print(f'\\n Sum of 2017 hits:\\n',np.mean(nump_hits_17))\n",
    "print(f'\\nSum of 2018 hits:\\n',np.mean(nump_hits_18))\n",
    "\n",
    "\n",
    "avg_17 = np.mean(nump_hits_17)\n",
    "avg_18 = np.mean(nump_hits_18)\n",
    "\n",
    "diff = avg_17 - avg_18\n",
    "print(f'\\nDifference of SLG sums:\\n',diff)\n",
    "print('\\nBased on sum data the Redsox had a better hitting year in 2017')\n",
    "\n",
    "#Difference2\n",
    "# diff2 = nump_hits_17 - nump_hits_18\n",
    "# print(f'\\nSecond way of trying to get difference:',diff2)\n",
    "\n",
    "\n",
    "\n"
   ]
  }
 ],
 "metadata": {
  "kernelspec": {
   "display_name": "Python 3 (ipykernel)",
   "language": "python",
   "name": "python3"
  },
  "language_info": {
   "codemirror_mode": {
    "name": "ipython",
    "version": 3
   },
   "file_extension": ".py",
   "mimetype": "text/x-python",
   "name": "python",
   "nbconvert_exporter": "python",
   "pygments_lexer": "ipython3",
   "version": "3.9.7"
  }
 },
 "nbformat": 4,
 "nbformat_minor": 2
}
